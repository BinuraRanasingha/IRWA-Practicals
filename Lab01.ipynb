{
 "cells": [
  {
   "cell_type": "code",
   "execution_count": 5,
   "id": "70e129d3",
   "metadata": {},
   "outputs": [
    {
     "name": "stdout",
     "output_type": "stream",
     "text": [
      "[('India', 'Kolhi'), ('England', 'Root'), ('NZ', 'Williamson'), ('Aus', 'Smith')]\n"
     ]
    }
   ],
   "source": [
    "###Q1 Answer1\n",
    "teams=[\"India\",\"England\",\"NZ\",\"Aus\"] \n",
    "captains=[\"Kolhi\",\"Root\",\"Williamson\",\"Smith\"] \n",
    "zipped=zip(teams,captains) ###zip is used to merge both the lines\n",
    "ziplist=list(zipped) ###zip is converted into a list\n",
    "print(ziplist) ###used to display the result"
   ]
  },
  {
   "cell_type": "code",
   "execution_count": 6,
   "id": "b5d866d4",
   "metadata": {},
   "outputs": [
    {
     "name": "stdout",
     "output_type": "stream",
     "text": [
      "{'India': 'Kolhi', 'England': 'Root', 'NZ': 'Williamson', 'Aus': 'Smith'}\n"
     ]
    }
   ],
   "source": [
    "###Q1 Answer2\n",
    "###It is a dictionary due to the availability of curly brackets. It contains key value pairs.\n",
    "zipped = zip(teams,captains)\n",
    "zipdict = dict(zipped) ###converting the zip into a dictionary.\n",
    "print(zipdict)"
   ]
  },
  {
   "cell_type": "code",
   "execution_count": 7,
   "id": "4c7507f2",
   "metadata": {},
   "outputs": [
    {
     "name": "stdout",
     "output_type": "stream",
     "text": [
      "You bought 3 textbooks for $300\n",
      "You bought 2 exercise books for $120\n",
      "You bought 1 story books for $90\n",
      "You bought 4 drawing books for $280\n"
     ]
    }
   ],
   "source": [
    "###Q2\n",
    "books=[\"textbooks\",\"exercise books\",\"story books\",\"drawing books\"]\n",
    "prices=[100,60,90,70]\n",
    "quantities=[3,2,1,4]\n",
    "for x,y,z in zip(books,prices,quantities):\n",
    "    print(f\"You bought {z} {x} for ${y*z}\") ###f in front of string tells python to look at values inside curly brackets\n",
    "    "
   ]
  },
  {
   "cell_type": "code",
   "execution_count": 10,
   "id": "a1d31e40",
   "metadata": {},
   "outputs": [
    {
     "name": "stdout",
     "output_type": "stream",
     "text": [
      "[12, 14, 16, 18, 20]\n"
     ]
    }
   ],
   "source": [
    "###Q3\n",
    "List1 = [2,4,6,8,10]\n",
    "x=[i+10 for i in List1]\n",
    "print(x)"
   ]
  },
  {
   "cell_type": "code",
   "execution_count": 11,
   "id": "caa2ade4",
   "metadata": {},
   "outputs": [
    {
     "name": "stdout",
     "output_type": "stream",
     "text": [
      "10 Grapes\n",
      "20 Oranges\n",
      "30 Mangoes\n",
      "40 Apples\n"
     ]
    }
   ],
   "source": [
    "###Q4 method1\n",
    "list1=[10,20,30,40]\n",
    "list2=[\"Apples\",\"Mangoes\",\"Oranges\",\"Grapes\"]\n",
    "for x,y  in zip (list1,list2[::-1]): ###list2[::-1] is used to get the reverse of list2\n",
    "    print(x,y)"
   ]
  },
  {
   "cell_type": "code",
   "execution_count": 12,
   "id": "9024d1e9",
   "metadata": {},
   "outputs": [
    {
     "name": "stdout",
     "output_type": "stream",
     "text": [
      "10 Grapes\n",
      "20 Oranges\n",
      "30 Mangoes\n",
      "40 Apples\n"
     ]
    }
   ],
   "source": [
    "###Q4 method2 using the reverse function\n",
    "list1=[10,20,30,40]\n",
    "list2=[\"Apples\",\"Mangoes\",\"Oranges\",\"Grapes\"]\n",
    "list2.reverse()\n",
    "for x,y in zip(list1,list2):\n",
    "    print(x,y)"
   ]
  },
  {
   "cell_type": "code",
   "execution_count": 13,
   "id": "6cfc2b28",
   "metadata": {},
   "outputs": [
    {
     "name": "stdout",
     "output_type": "stream",
     "text": [
      "['a', 'b', ['c', ['d', 'e', ['f', 'g', 'h', 'i', 'j'], 'k'], 'l'], 'm', 'n']\n"
     ]
    }
   ],
   "source": [
    "###Q5 answer1\n",
    "list1=[\"a\",\"b\",[\"c\",[\"d\",\"e\",[\"f\",\"g\"],\"k\"],\"l\"],\"m\",\"n\"]\n",
    "sub_list=[\"h\",\"i\",\"j\"]\n",
    "list1[2][1][2].extend(sub_list) ###extend is used to add multiple individual elements to the end of the list. Append can be used to add a single element to the end of the list.\n",
    "print(list1)"
   ]
  },
  {
   "cell_type": "code",
   "execution_count": 14,
   "id": "de424178",
   "metadata": {},
   "outputs": [
    {
     "name": "stdout",
     "output_type": "stream",
     "text": [
      "['a', 'b', ['c', ['d', 'e', ['f', 'g', ['h', 'i', 'j']], 'k'], 'l'], 'm', 'n']\n"
     ]
    }
   ],
   "source": [
    "###Q5 answer2\n",
    "list1=[\"a\",\"b\",[\"c\",[\"d\",\"e\",[\"f\",\"g\"],\"k\"],\"l\"],\"m\",\"n\"]\n",
    "sub_list=[\"h\",\"i\",\"j\"]\n",
    "list1[2][1][2].append(sub_list) \n",
    "print(list1)"
   ]
  },
  {
   "cell_type": "code",
   "execution_count": 16,
   "id": "55047ee5",
   "metadata": {},
   "outputs": [
    {
     "name": "stdout",
     "output_type": "stream",
     "text": [
      "[10, 20, 32, 54]\n"
     ]
    }
   ],
   "source": [
    "###Q6\n",
    "List1=[10,15,20,15,32,54,15]\n",
    "while 15 in List1:\n",
    "    List1.remove(15)\n",
    "print(List1)"
   ]
  },
  {
   "cell_type": "code",
   "execution_count": 17,
   "id": "c42f4c01",
   "metadata": {},
   "outputs": [
    {
     "name": "stdout",
     "output_type": "stream",
     "text": [
      "{'John': 15, 'Rick': 20, 'Misa': 12, 'Bonnie': 18, 'Matt': 16}\n"
     ]
    }
   ],
   "source": [
    "###Q7 using the update method\n",
    "dict_1={'John':15,'Rick':10,'Misa':12}\n",
    "dict_2={'Bonnie':18,'Rick':20,'Matt':16}\n",
    "dict_1.update(dict_2) ###merging 2 dictionaries\n",
    "print(dict_1)"
   ]
  },
  {
   "cell_type": "code",
   "execution_count": 18,
   "id": "53363520",
   "metadata": {},
   "outputs": [
    {
     "name": "stdout",
     "output_type": "stream",
     "text": [
      "{'John': 15, 'Rick': 20, 'Misa': 12, 'Bonnie': 18, 'Matt': 16}\n"
     ]
    }
   ],
   "source": [
    "###Q7 using the unpack operator\n",
    "dict_1={'John':15,'Rick':10,'Misa':12}\n",
    "dict_2={'Bonnie':18,'Rick':20,'Matt':16}\n",
    "dict_3={**dict_1,**dict_2} ###The ** are used to merge the 2 dictionaries.\n",
    "print(dict_3)"
   ]
  },
  {
   "cell_type": "code",
   "execution_count": 20,
   "id": "76e98c6c",
   "metadata": {},
   "outputs": [
    {
     "name": "stdout",
     "output_type": "stream",
     "text": [
      "{1: 1, 2: 2, 3: 3, 4: 0}\n"
     ]
    }
   ],
   "source": [
    "###Q8\n",
    "d={0:0,1:1,2:2,3:3,}\n",
    "k_old = 0 ###old key\n",
    "k_new = 4 ###new key\n",
    "d[k_new] = d.pop(k_old) ###pop function can be used to update a key.\n",
    "print(d)"
   ]
  },
  {
   "cell_type": "code",
   "execution_count": 21,
   "id": "f29ebcef",
   "metadata": {},
   "outputs": [
    {
     "name": "stdout",
     "output_type": "stream",
     "text": [
      "{'USA': 'Washington D.C.', 'France': 'Paris', 'India': 'New Delhi'}\n"
     ]
    }
   ],
   "source": [
    "###Q9\n",
    "country=[\"USA\",\"France\",\"India\"]\n",
    "capital=[\"Washington D.C.\",\"Paris\",\"New Delhi\"]\n",
    "zipped=zip(country,capital)\n",
    "zipdict=dict(zipped)\n",
    "print(zipdict)"
   ]
  },
  {
   "cell_type": "code",
   "execution_count": 24,
   "id": "d847e7f6",
   "metadata": {},
   "outputs": [
    {
     "name": "stdout",
     "output_type": "stream",
     "text": [
      "{'Fruit': 'Pear', 'Vegetable': 'Carrot', 'Pet': 'Cat'}\n"
     ]
    }
   ],
   "source": [
    "###Q10\n",
    "My_dict={\"Fruit\":\"Pear\",\"Vegetable\":\"Carrot\",\"Pet\":\"Cat\",\"Book\":\"Mobby dick\",\"Crystal\":\"Amethyst\"}\n",
    "keysToRemove=[\"Book\",\"Crystal\"]\n",
    "for k in keysToRemove:\n",
    "    My_dict.pop(k) ###deleting keys\n",
    "print(My_dict)"
   ]
  },
  {
   "cell_type": "code",
   "execution_count": 29,
   "id": "dc207e37",
   "metadata": {},
   "outputs": [
    {
     "ename": "NameError",
     "evalue": "name 'key' is not defined",
     "output_type": "error",
     "traceback": [
      "\u001b[1;31m---------------------------------------------------------------------------\u001b[0m",
      "\u001b[1;31mNameError\u001b[0m                                 Traceback (most recent call last)",
      "Input \u001b[1;32mIn [29]\u001b[0m, in \u001b[0;36m<cell line: 4>\u001b[1;34m()\u001b[0m\n\u001b[0;32m      2\u001b[0m sub_dict\u001b[38;5;241m=\u001b[39m{\u001b[38;5;124m'\u001b[39m\u001b[38;5;124mmath\u001b[39m\u001b[38;5;124m'\u001b[39m:\u001b[38;5;241m100\u001b[39m,\u001b[38;5;124m'\u001b[39m\u001b[38;5;124mchem\u001b[39m\u001b[38;5;124m'\u001b[39m:\u001b[38;5;241m98\u001b[39m,\u001b[38;5;124m'\u001b[39m\u001b[38;5;124msci\u001b[39m\u001b[38;5;124m'\u001b[39m:\u001b[38;5;241m100\u001b[39m,\u001b[38;5;124m'\u001b[39m\u001b[38;5;124meng\u001b[39m\u001b[38;5;124m'\u001b[39m:\u001b[38;5;241m100\u001b[39m}\n\u001b[0;32m      3\u001b[0m key_to_extract\u001b[38;5;241m=\u001b[39m{\u001b[38;5;124m'\u001b[39m\u001b[38;5;124mmath\u001b[39m\u001b[38;5;124m'\u001b[39m,\u001b[38;5;124m'\u001b[39m\u001b[38;5;124mchem\u001b[39m\u001b[38;5;124m'\u001b[39m,\u001b[38;5;124m'\u001b[39m\u001b[38;5;124msci\u001b[39m\u001b[38;5;124m'\u001b[39m}\n\u001b[1;32m----> 4\u001b[0m extracted_dict\u001b[38;5;241m=\u001b[39m{key:sub_dict[key] \u001b[38;5;28;01mfor\u001b[39;00m keys \u001b[38;5;129;01min\u001b[39;00m sub_dict\u001b[38;5;241m.\u001b[39mkeys() \u001b[38;5;241m&\u001b[39m key_to_extract}\n\u001b[0;32m      5\u001b[0m \u001b[38;5;28mprint\u001b[39m(extracted_dict)\n",
      "Input \u001b[1;32mIn [29]\u001b[0m, in \u001b[0;36m<dictcomp>\u001b[1;34m(.0)\u001b[0m\n\u001b[0;32m      2\u001b[0m sub_dict\u001b[38;5;241m=\u001b[39m{\u001b[38;5;124m'\u001b[39m\u001b[38;5;124mmath\u001b[39m\u001b[38;5;124m'\u001b[39m:\u001b[38;5;241m100\u001b[39m,\u001b[38;5;124m'\u001b[39m\u001b[38;5;124mchem\u001b[39m\u001b[38;5;124m'\u001b[39m:\u001b[38;5;241m98\u001b[39m,\u001b[38;5;124m'\u001b[39m\u001b[38;5;124msci\u001b[39m\u001b[38;5;124m'\u001b[39m:\u001b[38;5;241m100\u001b[39m,\u001b[38;5;124m'\u001b[39m\u001b[38;5;124meng\u001b[39m\u001b[38;5;124m'\u001b[39m:\u001b[38;5;241m100\u001b[39m}\n\u001b[0;32m      3\u001b[0m key_to_extract\u001b[38;5;241m=\u001b[39m{\u001b[38;5;124m'\u001b[39m\u001b[38;5;124mmath\u001b[39m\u001b[38;5;124m'\u001b[39m,\u001b[38;5;124m'\u001b[39m\u001b[38;5;124mchem\u001b[39m\u001b[38;5;124m'\u001b[39m,\u001b[38;5;124m'\u001b[39m\u001b[38;5;124msci\u001b[39m\u001b[38;5;124m'\u001b[39m}\n\u001b[1;32m----> 4\u001b[0m extracted_dict\u001b[38;5;241m=\u001b[39m{\u001b[43mkey\u001b[49m:sub_dict[key] \u001b[38;5;28;01mfor\u001b[39;00m keys \u001b[38;5;129;01min\u001b[39;00m sub_dict\u001b[38;5;241m.\u001b[39mkeys() \u001b[38;5;241m&\u001b[39m key_to_extract}\n\u001b[0;32m      5\u001b[0m \u001b[38;5;28mprint\u001b[39m(extracted_dict)\n",
      "\u001b[1;31mNameError\u001b[0m: name 'key' is not defined"
     ]
    }
   ],
   "source": [
    "###Q11\n",
    "sub_dict={'math':100,'chem':98,'sci':100,'eng':100}\n",
    "key_to_extract={'math','chem','sci'}\n",
    "extracted_dict={key:sub_dict[key] for keys in sub_dict.keys() & key_to_extract}\n",
    "print(extracted_dict)"
   ]
  },
  {
   "cell_type": "code",
   "execution_count": 30,
   "id": "a3829d1c",
   "metadata": {},
   "outputs": [
    {
     "name": "stdout",
     "output_type": "stream",
     "text": [
      "[15, 55, 75, 150, 180, 200]\n"
     ]
    }
   ],
   "source": [
    "###Q12\n",
    "list1=[12,15,32,42,55,75,122,132,150,180,200]\n",
    "list2=[]\n",
    "for i in list1:\n",
    "    if i %5 == 0:\n",
    "        list2.append(i)\n",
    "print(list2)"
   ]
  },
  {
   "cell_type": "code",
   "execution_count": 33,
   "id": "ce9247d0",
   "metadata": {},
   "outputs": [
    {
     "name": "stdout",
     "output_type": "stream",
     "text": [
      "75\n",
      "150\n",
      "145\n"
     ]
    }
   ],
   "source": [
    "###Q13\n",
    "numbers=[12,75,150,180,145,525,50]\n",
    "for item in numbers:\n",
    "    if item>500:\n",
    "        break\n",
    "    elif item>150:\n",
    "        continue\n",
    "    elif item % 5 == 0: ###checking whether number is divisible by 5.\n",
    "        print(item)"
   ]
  },
  {
   "cell_type": "code",
   "execution_count": 35,
   "id": "3cda12e6",
   "metadata": {},
   "outputs": [
    {
     "name": "stdout",
     "output_type": "stream",
     "text": [
      "\n",
      "Upper case characters: 3\n",
      "Lower case characters: 9\n",
      "Number case: 1\n",
      "Special case characters: 2\n"
     ]
    }
   ],
   "source": [
    "###Q14\n",
    "Originalsubstrings = \"@W3Resource.Com\"\n",
    "def count_chars(Originalsubstrings):\n",
    "    upper_ctr,lower_ctr,number_ctr,special_ctr = 0,0,0,0\n",
    "    for i in range(len(Originalsubstrings)):\n",
    "        if Originalsubstrings[i]>='A' and Originalsubstrings[i] <='Z':upper_ctr += 1\n",
    "        elif Originalsubstrings[i]>='a' and Originalsubstrings[i] <='z':lower_ctr += 1\n",
    "        elif Originalsubstrings[i]>='0' and Originalsubstrings[i] <='9':number_ctr += 1\n",
    "        else: special_ctr += 1\n",
    "    return upper_ctr,lower_ctr,number_ctr,special_ctr\n",
    "u,l,n,s = count_chars(Originalsubstrings)\n",
    "print('\\nUpper case characters:',u)\n",
    "print('Lower case characters:',l)\n",
    "print('Number case:',n)\n",
    "print('Special case characters:',s)"
   ]
  },
  {
   "cell_type": "code",
   "execution_count": 36,
   "id": "ea8ee906",
   "metadata": {},
   "outputs": [
    {
     "name": "stdout",
     "output_type": "stream",
     "text": [
      "2+22+222+2222+22222+\n",
      "Sum of above series is: 24690\n"
     ]
    }
   ],
   "source": [
    "###Q15\n",
    "n=5\n",
    "#first number of sequence\n",
    "start=2\n",
    "sum_seq=0\n",
    "\n",
    "#run loop n times\n",
    "for i in range(0,n):\n",
    "    print(start,end=\"+\")\n",
    "    sum_seq += start\n",
    "    \n",
    "    #calculate next term\n",
    "    start = start * 10 + 2\n",
    "print(\"\\nSum of above series is:\",sum_seq)"
   ]
  },
  {
   "cell_type": "code",
   "execution_count": null,
   "id": "09a59e31",
   "metadata": {},
   "outputs": [],
   "source": []
  }
 ],
 "metadata": {
  "kernelspec": {
   "display_name": "Python 3 (ipykernel)",
   "language": "python",
   "name": "python3"
  },
  "language_info": {
   "codemirror_mode": {
    "name": "ipython",
    "version": 3
   },
   "file_extension": ".py",
   "mimetype": "text/x-python",
   "name": "python",
   "nbconvert_exporter": "python",
   "pygments_lexer": "ipython3",
   "version": "3.9.12"
  }
 },
 "nbformat": 4,
 "nbformat_minor": 5
}
