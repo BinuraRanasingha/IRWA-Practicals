{
 "cells": [
  {
   "cell_type": "code",
   "execution_count": 1,
   "id": "31e3400c",
   "metadata": {},
   "outputs": [
    {
     "data": {
      "text/plain": [
       "'C:\\\\Users\\\\PCView'"
      ]
     },
     "execution_count": 1,
     "metadata": {},
     "output_type": "execute_result"
    }
   ],
   "source": [
    "pwd"
   ]
  },
  {
   "cell_type": "code",
   "execution_count": 2,
   "id": "e385422a",
   "metadata": {},
   "outputs": [
    {
     "name": "stdout",
     "output_type": "stream",
     "text": [
      "D:\\\n"
     ]
    }
   ],
   "source": [
    "cd D:\\"
   ]
  },
  {
   "cell_type": "code",
   "execution_count": 3,
   "id": "85a9cd28",
   "metadata": {},
   "outputs": [
    {
     "data": {
      "text/plain": [
       "'D:\\\\'"
      ]
     },
     "execution_count": 3,
     "metadata": {},
     "output_type": "execute_result"
    }
   ],
   "source": [
    "pwd"
   ]
  },
  {
   "cell_type": "code",
   "execution_count": 4,
   "id": "68f24675",
   "metadata": {},
   "outputs": [
    {
     "name": "stdout",
     "output_type": "stream",
     "text": [
      "C:\\\n"
     ]
    }
   ],
   "source": [
    "cd C:\\"
   ]
  },
  {
   "cell_type": "code",
   "execution_count": 5,
   "id": "cfd5c476",
   "metadata": {},
   "outputs": [
    {
     "name": "stdout",
     "output_type": "stream",
     "text": [
      "C:\\Users\\PCView\n"
     ]
    }
   ],
   "source": [
    "cd Users\\PCView"
   ]
  },
  {
   "cell_type": "code",
   "execution_count": 6,
   "id": "9a40362b",
   "metadata": {},
   "outputs": [
    {
     "name": "stdout",
     "output_type": "stream",
     "text": [
      "C:\\Users\\PCView\\IRWA\n"
     ]
    }
   ],
   "source": [
    "cd IRWA"
   ]
  },
  {
   "cell_type": "code",
   "execution_count": 20,
   "id": "ad9923ff",
   "metadata": {},
   "outputs": [
    {
     "name": "stdout",
     "output_type": "stream",
     "text": [
      "['April is the', 'is the best', 'the best month']\n"
     ]
    }
   ],
   "source": [
    "from nltk import tokenize\n",
    "from nltk.tokenize import word_tokenize\n",
    "from nltk.util import ngrams #importing the ngrams library\n",
    "\n",
    "text = \"April is the best month\"\n",
    "tokenized = word_tokenize(text)\n",
    "ng = ngrams(tokenized,3) #creating trigrams. ng is an object\n",
    "#print(ng)\n",
    "\n",
    "#obtaining the output\n",
    "#for n in ng:\n",
    " #   print(n)\n",
    "    \n",
    "x = [' '.join (ngramed) for ngramed in ng]\n",
    "print(x)"
   ]
  },
  {
   "cell_type": "code",
   "execution_count": 12,
   "id": "46581bd8",
   "metadata": {},
   "outputs": [
    {
     "name": "stderr",
     "output_type": "stream",
     "text": [
      "[nltk_data] Downloading package punkt to\n",
      "[nltk_data]     C:\\Users\\PCView\\AppData\\Roaming\\nltk_data...\n",
      "[nltk_data]   Unzipping tokenizers\\punkt.zip.\n"
     ]
    },
    {
     "data": {
      "text/plain": [
       "True"
      ]
     },
     "execution_count": 12,
     "metadata": {},
     "output_type": "execute_result"
    }
   ],
   "source": [
    "import nltk\n",
    "nltk.download(\"punkt\") #downloading the punkt library"
   ]
  },
  {
   "cell_type": "code",
   "execution_count": 22,
   "id": "48ef0ae1",
   "metadata": {},
   "outputs": [
    {
     "name": "stdout",
     "output_type": "stream",
     "text": [
      "['Apr', 'pri', 'ril', 'il ', 'l i', ' is', 'is ', 's t', ' th', 'the', 'he ', 'e b', ' be', 'bes', 'est', 'st ', 't m', ' mo', 'mon', 'ont', 'nth']\n"
     ]
    }
   ],
   "source": [
    "#without tokenized getting the character list\n",
    "from nltk.util import ngrams\n",
    "text = \"April is the best month\"\n",
    "\n",
    "#getting the character list\n",
    "characters = [char for char in text]\n",
    "#print(characters)\n",
    "\n",
    "#ngrams\n",
    "ng = ngrams(characters,3)\n",
    "\n",
    "#displaying as a list\n",
    "x = [''.join (ngramed) for ngramed in ng]\n",
    "print(x)"
   ]
  },
  {
   "cell_type": "code",
   "execution_count": 36,
   "id": "d6df937b",
   "metadata": {},
   "outputs": [],
   "source": [
    "#Question1 part A\n",
    "import os\n",
    "\n",
    "def get_ngram(n):\n",
    "    directory=os.getcwd() + '/ngram'\n",
    "    filelist = os.listdir(directory)\n",
    "    #print(filelist)\n",
    "\n",
    "    for file in filelist:\n",
    "        with open(os.getcwd() + '/ngram/' + file,'r') as f:\n",
    "            #print(f.read())\n",
    "            sentence = f.read()\n",
    "            #print(sentence)\n",
    "            characters = [char for char in sentence]\n",
    "            #print(characters)\n",
    "\n",
    "            ng = ngrams(characters,n) \n",
    "\n",
    "            x = [''.join (ngramed) for ngramed in ng]\n",
    "            print(x)\n",
    "        \n"
   ]
  },
  {
   "cell_type": "code",
   "execution_count": 39,
   "id": "93d7e872",
   "metadata": {},
   "outputs": [
    {
     "name": "stdout",
     "output_type": "stream",
     "text": [
      "['I a', ' am', 'am ', 'm S', ' Sa', 'Sam', 'am.']\n",
      "['Sam', 'am ', 'm I', ' I ', 'I a', ' am', 'am.']\n",
      "['I d', ' do', 'do ', 'o n', ' no', 'not', 'ot ', 't l', ' li', 'lik', 'ike', 'ke ', 'e g', ' gr', 'gre', 'ree', 'een', 'en ', 'n e', ' eg', 'egg', 'ggs', 'gs ', 's a', ' an', 'and', 'nd ', 'd h', ' ha', 'ham', 'am.']\n",
      "['I d', ' do', 'do ', 'o n', ' no', 'not', 'ot ', 't l', ' li', 'lik', 'ike', 'ke ', 'e t', ' th', 'the', 'hem', 'em,', 'm, ', ', S', ' Sa', 'Sam', 'am ', 'm I', ' I ', 'I a', ' am', 'am.', 'm.\\n']\n"
     ]
    }
   ],
   "source": [
    "get_ngram(1) #kgram when k=1\n",
    "get_ngram(2) #kgram when k=2\n",
    "get_ngram(3) #kgram when k=3"
   ]
  },
  {
   "cell_type": "code",
   "execution_count": 47,
   "id": "7d735658",
   "metadata": {},
   "outputs": [
    {
     "name": "stdout",
     "output_type": "stream",
     "text": [
      "I do not like green eggs and ham.\n",
      "['I', ' ', 'd', 'o', ' ', 'n', 'o', 't', ' ', 'l', 'i', 'k', 'e', ' ', 'g', 'r', 'e', 'e', 'n', ' ', 'e', 'g', 'g', 's', ' ', 'a', 'n', 'd', ' ', 'h', 'a', 'm', '.']\n",
      "['I d', ' do', 'do ', 'o n', ' no', 'not', 'ot ', 't l', ' li', 'lik', 'ike', 'ke ', 'e g', ' gr', 'gre', 'ree', 'een', 'en ', 'n e', ' eg', 'egg', 'ggs', 'gs ', 's a', ' an', 'and', 'nd ', 'd h', ' ha', 'ham', 'am.']\n",
      "I do not like them, Sam I am.\n",
      "\n",
      "['I d', ' do', 'do ', 'o n', ' no', 'not', 'ot ', 't l', ' li', 'lik', 'ike', 'ke ', 'e t', ' th', 'the', 'hem', 'em,', 'm, ', ', S', ' Sa', 'Sam', 'am ', 'm I', ' I ', 'I a', ' am', 'am.', 'm.\\n']\n"
     ]
    },
    {
     "data": {
      "text/plain": [
       "1.0"
      ]
     },
     "execution_count": 47,
     "metadata": {},
     "output_type": "execute_result"
    }
   ],
   "source": [
    "#Jaccard coeffecient\n",
    "def jaccard(x,y):\n",
    "    numerator = x.intersection(y)\n",
    "    denominator = x.union(y)\n",
    "    return len(numerator) / len(denominator)\n",
    "\n",
    "doc3 = open(os.getcwd() + '/ngram/Doc3.txt','r')\n",
    "#print(doc3.read())\n",
    "sentence = doc3.read()\n",
    "print(sentence)\n",
    "characters = [char for char in sentence]\n",
    "print(characters)\n",
    "ngramed = ngrams(characters,3)\n",
    "\n",
    "y = [''.join (n_g) for n_g in ngramed]\n",
    "print(y)\n",
    "\n",
    "doc4 = open(os.getcwd() + '/ngram/Doc4.txt','r')\n",
    "sentence = doc4.read()\n",
    "print(sentence)\n",
    "\n",
    "#split into characters\n",
    "characters = [char for char in sentence]\n",
    "ngramed = ngrams(characters,3)\n",
    "\n",
    "#display as list\n",
    "y = [''.join (n_g) for n_g in ngramed]\n",
    "print(y)\n",
    "\n",
    "jaccard(set(x),set(y))"
   ]
  },
  {
   "cell_type": "code",
   "execution_count": 48,
   "id": "51d29bc7",
   "metadata": {},
   "outputs": [
    {
     "name": "stdout",
     "output_type": "stream",
     "text": [
      "2\n"
     ]
    }
   ],
   "source": [
    "#Question 2\n",
    "from nltk.metrics.distance import edit_distance\n",
    "print(edit_distance(\"python\",\"pythonly\")) #calculating the edit distance"
   ]
  },
  {
   "cell_type": "code",
   "execution_count": 61,
   "id": "e3775a45",
   "metadata": {},
   "outputs": [],
   "source": [
    "#Question 3 implementing the soundex algorithm\n",
    "from IPython.lib.display import Code\n",
    "def soundex(name):\n",
    "    name = \"Herman\"\n",
    "    name = name.upper()\n",
    "    soundex = \"\"\n",
    "\n",
    "    #1st rule - The first letter should be retained.\n",
    "    soundex += name[0]\n",
    "\n",
    "    #2nd and 3rd rule\n",
    "    dictionary = {'BFPV':\"1\",\"CGJKQSXC\":\"2\",\"DT\":\"3\",\"L\":\"4\",\"MN\":\"5\",\"R\":\"6\",\"AEIOUHWY\":\"0\"}\n",
    "    for char in name[1:]:\n",
    "        for key in dictionary.keys():\n",
    "            if char in key:\n",
    "                code = dictionary[key]\n",
    "                #print(code)\n",
    "\n",
    "                #4th rule - remove all pairs of conescutive digits\n",
    "                if code != soundex[-1]:\n",
    "                    soundex += code\n",
    "                    #print(soundex)\n",
    "\n",
    "                    #5th rule - remove 0\n",
    "                    soundex = soundex.replace(\"0\",\"\")\n",
    "\n",
    "                    #6th rule\n",
    "                    soundex = soundex[:4].ljust(4,\"0\")\n",
    "\n",
    "    return(soundex)\n"
   ]
  },
  {
   "cell_type": "code",
   "execution_count": 63,
   "id": "43be19ca",
   "metadata": {},
   "outputs": [
    {
     "data": {
      "text/plain": [
       "'H655'"
      ]
     },
     "execution_count": 63,
     "metadata": {},
     "output_type": "execute_result"
    }
   ],
   "source": [
    "soundex(\"Hermann\")"
   ]
  },
  {
   "cell_type": "code",
   "execution_count": null,
   "id": "2583f196",
   "metadata": {},
   "outputs": [],
   "source": []
  }
 ],
 "metadata": {
  "kernelspec": {
   "display_name": "Python 3 (ipykernel)",
   "language": "python",
   "name": "python3"
  },
  "language_info": {
   "codemirror_mode": {
    "name": "ipython",
    "version": 3
   },
   "file_extension": ".py",
   "mimetype": "text/x-python",
   "name": "python",
   "nbconvert_exporter": "python",
   "pygments_lexer": "ipython3",
   "version": "3.9.12"
  }
 },
 "nbformat": 4,
 "nbformat_minor": 5
}
