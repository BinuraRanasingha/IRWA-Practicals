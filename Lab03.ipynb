{
 "cells": [
  {
   "cell_type": "code",
   "execution_count": 1,
   "id": "c5a63fbb",
   "metadata": {},
   "outputs": [
    {
     "data": {
      "text/plain": [
       "'C:\\\\Users\\\\PCView'"
      ]
     },
     "execution_count": 1,
     "metadata": {},
     "output_type": "execute_result"
    }
   ],
   "source": [
    "pwd"
   ]
  },
  {
   "cell_type": "code",
   "execution_count": 2,
   "id": "a2756d10",
   "metadata": {},
   "outputs": [
    {
     "name": "stdout",
     "output_type": "stream",
     "text": [
      "D:\\\n"
     ]
    }
   ],
   "source": [
    "cd D:\\"
   ]
  },
  {
   "cell_type": "code",
   "execution_count": 3,
   "id": "ffc758d3",
   "metadata": {},
   "outputs": [
    {
     "data": {
      "text/plain": [
       "'D:\\\\'"
      ]
     },
     "execution_count": 3,
     "metadata": {},
     "output_type": "execute_result"
    }
   ],
   "source": [
    "pwd"
   ]
  },
  {
   "cell_type": "code",
   "execution_count": 4,
   "id": "3c5b43d1",
   "metadata": {},
   "outputs": [
    {
     "name": "stdout",
     "output_type": "stream",
     "text": [
      "C:\\\n"
     ]
    }
   ],
   "source": [
    "cd C:\\"
   ]
  },
  {
   "cell_type": "code",
   "execution_count": 5,
   "id": "3039aa19",
   "metadata": {},
   "outputs": [
    {
     "name": "stdout",
     "output_type": "stream",
     "text": [
      "C:\\Users\\PCView\n"
     ]
    }
   ],
   "source": [
    "cd Users\\PCView"
   ]
  },
  {
   "cell_type": "code",
   "execution_count": 6,
   "id": "19f2d0fc",
   "metadata": {},
   "outputs": [
    {
     "name": "stdout",
     "output_type": "stream",
     "text": [
      "C:\\Users\\PCView\\IRWA\n"
     ]
    }
   ],
   "source": [
    "cd IRWA"
   ]
  },
  {
   "cell_type": "code",
   "execution_count": 20,
   "id": "b1b936dc",
   "metadata": {},
   "outputs": [
    {
     "name": "stdout",
     "output_type": "stream",
     "text": [
      "['April is the', 'is the best', 'the best month']\n"
     ]
    }
   ],
   "source": [
    "from nltk import tokenize\n",
    "from nltk.tokenize import word_tokenize\n",
    "from nltk.util import ngrams #importing the ngrams library\n",
    "\n",
    "text = \"April is the best month\"\n",
    "tokenized = word_tokenize(text)\n",
    "ng = ngrams(tokenized,3) #creating trigrams. ng is an object\n",
    "#print(ng)\n",
    "\n",
    "#obtaining the output\n",
    "#for n in ng:\n",
    " #   print(n)\n",
    "    \n",
    "x = [' '.join (ngramed) for ngramed in ng]\n",
    "print(x)"
   ]
  },
  {
   "cell_type": "code",
   "execution_count": 12,
   "id": "729f56e3",
   "metadata": {},
   "outputs": [
    {
     "name": "stderr",
     "output_type": "stream",
     "text": [
      "[nltk_data] Downloading package punkt to\n",
      "[nltk_data]     C:\\Users\\PCView\\AppData\\Roaming\\nltk_data...\n",
      "[nltk_data]   Unzipping tokenizers\\punkt.zip.\n"
     ]
    },
    {
     "data": {
      "text/plain": [
       "True"
      ]
     },
     "execution_count": 12,
     "metadata": {},
     "output_type": "execute_result"
    }
   ],
   "source": [
    "import nltk\n",
    "nltk.download(\"punkt\") #downloading the punkt library"
   ]
  },
  {
   "cell_type": "code",
   "execution_count": 22,
   "id": "d6fae512",
   "metadata": {},
   "outputs": [
    {
     "name": "stdout",
     "output_type": "stream",
     "text": [
      "['Apr', 'pri', 'ril', 'il ', 'l i', ' is', 'is ', 's t', ' th', 'the', 'he ', 'e b', ' be', 'bes', 'est', 'st ', 't m', ' mo', 'mon', 'ont', 'nth']\n"
     ]
    }
   ],
   "source": [
    "#without tokenized getting the character list\n",
    "from nltk.util import ngrams\n",
    "text = \"April is the best month\"\n",
    "\n",
    "#getting the character list\n",
    "characters = [char for char in text]\n",
    "#print(characters)\n",
    "\n",
    "#ngrams\n",
    "ng = ngrams(characters,3)\n",
    "\n",
    "#displaying as a list\n",
    "x = [''.join (ngramed) for ngramed in ng]\n",
    "print(x)"
   ]
  },
  {
   "cell_type": "code",
   "execution_count": 28,
   "id": "4037384d",
   "metadata": {},
   "outputs": [
    {
     "name": "stdout",
     "output_type": "stream",
     "text": [
      "['I a', ' am', 'am ', 'm S', ' Sa', 'Sam', 'am.']\n",
      "['Sam', 'am ', 'm I', ' I ', 'I a', ' am', 'am.']\n",
      "['I d', ' do', 'do ', 'o n', ' no', 'not', 'ot ', 't l', ' li', 'lik', 'ike', 'ke ', 'e g', ' gr', 'gre', 'ree', 'een', 'en ', 'n e', ' eg', 'egg', 'ggs', 'gs ', 's a', ' an', 'and', 'nd ', 'd h', ' ha', 'ham', 'am.']\n",
      "['I d', ' do', 'do ', 'o n', ' no', 'not', 'ot ', 't l', ' li', 'lik', 'ike', 'ke ', 'e t', ' th', 'the', 'hem', 'em,', 'm, ', ', S', ' Sa', 'Sam', 'am ', 'm I', ' I ', 'I a', ' am', 'am.', 'm.\\n']\n"
     ]
    }
   ],
   "source": [
    "import os\n",
    "directory=os.getcwd() + '/ngram'\n",
    "filelist = os.listdir(directory)\n",
    "#print(filelist)\n",
    "\n",
    "for file in filelist:\n",
    "    with open(os.getcwd() + '/ngram/' + file,'r') as f:\n",
    "        #print(f.read())\n",
    "        sentence = f.read()\n",
    "        #print(sentence)\n",
    "        characters = [char for char in sentence]\n",
    "        #print(characters)\n",
    "        \n",
    "        ng = ngrams(characters,3) \n",
    "        \n",
    "        x = [''.join (ngramed) for ngramed in ng]\n",
    "        print(x)"
   ]
  },
  {
   "cell_type": "code",
   "execution_count": null,
   "id": "f1806654",
   "metadata": {},
   "outputs": [],
   "source": []
  }
 ],
 "metadata": {
  "kernelspec": {
   "display_name": "Python 3 (ipykernel)",
   "language": "python",
   "name": "python3"
  },
  "language_info": {
   "codemirror_mode": {
    "name": "ipython",
    "version": 3
   },
   "file_extension": ".py",
   "mimetype": "text/x-python",
   "name": "python",
   "nbconvert_exporter": "python",
   "pygments_lexer": "ipython3",
   "version": "3.9.12"
  }
 },
 "nbformat": 4,
 "nbformat_minor": 5
}
