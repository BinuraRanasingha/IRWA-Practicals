{
  "nbformat": 4,
  "nbformat_minor": 0,
  "metadata": {
    "colab": {
      "provenance": [],
      "collapsed_sections": []
    },
    "kernelspec": {
      "name": "python3",
      "display_name": "Python 3"
    },
    "language_info": {
      "name": "python"
    }
  },
  "cells": [
    {
      "cell_type": "code",
      "execution_count": null,
      "metadata": {
        "id": "kZavzxlRoMiV"
      },
      "outputs": [],
      "source": [
        "import requests\n",
        "import lxml\n",
        "from bs4 import BeautifulSoup\n",
        "from xlwt import *"
      ]
    },
    {
      "cell_type": "code",
      "source": [
        "#creates a url address that needs to be crawled\n",
        "url=\"https://www.imdb.com/chart/top\""
      ],
      "metadata": {
        "id": "c12ytjCwo7Z4"
      },
      "execution_count": null,
      "outputs": []
    },
    {
      "cell_type": "code",
      "source": [
        "headers={'User-Agent':'Mozilla/5.0 (Machintosh,Intel Mac OS X 10_10_1)AppleWebKit/537.36(KHTML, like Gecko) Chrome/39.0.2171.95 Safari/537.36'}"
      ],
      "metadata": {
        "id": "ARZja2WfpRsg"
      },
      "execution_count": null,
      "outputs": []
    },
    {
      "cell_type": "code",
      "source": [
        "f = requests.get(url,headers)"
      ],
      "metadata": {
        "id": "XEFl9FOzsphA"
      },
      "execution_count": null,
      "outputs": []
    },
    {
      "cell_type": "code",
      "source": [
        "soup = BeautifulSoup(f.content, 'lxml')\n",
        "table = soup.find('table',{'data-caller-name': 'chart-top250movie'})\n",
        "tr = table.find_all(\"tr\")\n",
        "#print(tr)\n",
        "movies_lst = []\n",
        "num = 0"
      ],
      "metadata": {
        "id": "dyDSipE6svUs"
      },
      "execution_count": null,
      "outputs": []
    },
    {
      "cell_type": "code",
      "source": [
        "workbook = Workbook(encoding = 'utf-8')\n",
        "table = workbook.add_sheet('data')\n",
        "table.write(0,0, 'Number') #first row first column\n",
        "table.write(0,1,'movie_url') #first row second column\n",
        "table.write(0,2,'movie_name')\n",
        "table.write(0,3,'movie_introduction')\n",
        "line = 1"
      ],
      "metadata": {
        "id": "NUjLDb5-uMbA"
      },
      "execution_count": null,
      "outputs": []
    },
    {
      "cell_type": "code",
      "source": [
        "for each_tr in tr:\n",
        "  td = each_tr.find_all('td',{'class': 'titleColumn'})\n",
        "  #In each tr row find each td cell\n",
        "  for each_td in td:\n",
        "    #print (each_td.text)\n",
        "    ulink = each_td.a['href']\n",
        "    url = 'https://www.imdb.com' + ulink\n",
        "    movies_lst.append(url)\n",
        "    num += 1\n",
        "    movie_url = url\n",
        "    movie_f = requests.get(movie_url,headers = headers)\n",
        "    movie_soup = BeautifulSoup(movie_f.content, 'lxml')\n",
        "    #movie_content = movie_soup.find('span', {'role': 'presentation'})\n",
        "    movie_content = movie_soup.find('span',{'data-testid': 'plot-xl'})\n",
        "    movie_title = movie_soup.find('h1')\n",
        "    #print(num,url,'\\n','Movie:'+str(movie_title))\n",
        "    #print('Movie info': + movie_content.string.strip())\n",
        "    table.write(line,0,num)\n",
        "    table.write(line,1,url)\n",
        "    table.write(line,2,movie_title.string.strip())\n",
        "    table.write(line,3,movie_content.string.strip())\n",
        "    line += 1\n",
        "    workbook.save('movies_top100.xls')"
      ],
      "metadata": {
        "id": "HfdIm8FKwh5I"
      },
      "execution_count": null,
      "outputs": []
    }
  ]
}