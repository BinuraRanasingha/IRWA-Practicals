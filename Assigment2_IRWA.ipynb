{
  "nbformat": 4,
  "nbformat_minor": 0,
  "metadata": {
    "colab": {
      "provenance": [],
      "collapsed_sections": []
    },
    "kernelspec": {
      "name": "python3",
      "display_name": "Python 3"
    },
    "language_info": {
      "name": "python"
    }
  },
  "cells": [
    {
      "cell_type": "code",
      "execution_count": null,
      "metadata": {
        "id": "mSvPwxgGZUHU"
      },
      "outputs": [],
      "source": [
        "import requests\n",
        "import lxml\n",
        "from bs4 import BeautifulSoup\n",
        "from xlwt import *"
      ]
    },
    {
      "cell_type": "code",
      "source": [
        "url=\"https://www.charleskeith.com/lk/sale\""
      ],
      "metadata": {
        "id": "O_TftZRmcCic"
      },
      "execution_count": null,
      "outputs": []
    },
    {
      "cell_type": "code",
      "source": [
        "headers={'User-Agent':'Mozilla/5.0 (Machintosh,Intel Mac OS X 10_10_1)AppleWebKit/537.36(KHTML, like Gecko) Chrome/39.0.2171.95 Safari/537.36'}"
      ],
      "metadata": {
        "id": "5dLdVUhocYek"
      },
      "execution_count": null,
      "outputs": []
    },
    {
      "cell_type": "code",
      "source": [
        "f = requests.get(url,headers)\n",
        "f"
      ],
      "metadata": {
        "id": "CMJ_Izjucdek",
        "colab": {
          "base_uri": "https://localhost:8080/"
        },
        "outputId": "efa63a7b-1ce2-456f-c252-0b8333d31f99"
      },
      "execution_count": null,
      "outputs": [
        {
          "output_type": "execute_result",
          "data": {
            "text/plain": [
              "<Response [200]>"
            ]
          },
          "metadata": {},
          "execution_count": 137
        }
      ]
    },
    {
      "cell_type": "code",
      "source": [
        "soup = BeautifulSoup(f.content, 'lxml')\n",
        "cards = soup.find_all('div',class_='container search-results container_full_width--lg_down search_result js-search-result')\n",
        "product_lst = []\n",
        "ProductNo = 0"
      ],
      "metadata": {
        "id": "YXFBbKfPcwfD"
      },
      "execution_count": null,
      "outputs": []
    },
    {
      "cell_type": "code",
      "source": [
        "workbook = Workbook(encoding = 'utf-8')\n",
        "data1 = workbook.add_sheet('data')\n",
        "data1.write(0,0,'Product Number')\n",
        "data1.write(0,1,'Product Name')\n",
        "data1.write(0,2,'New Price')\n",
        "data1.write(0,3,'Old Price')\n",
        "data1.write(0,4,'discount')\n",
        "line = 1"
      ],
      "metadata": {
        "id": "2Ip50IgKeZPb"
      },
      "execution_count": null,
      "outputs": []
    },
    {
      "cell_type": "code",
      "source": [
        "cards = soup.find_all('div', class_='container search-results container_full_width--lg_down search_result js-search-result')\n",
        "\n",
        "for card in cards:\n",
        "  discount = card.find('div', class_='discount_percentage tile_discount').text\n",
        "  ProductNo += 1\n",
        "  ProductName = card.find('div', class_='pdp-link product_tile-name').a.text.strip()\n",
        "  Price = card.find('span', class_='sales sales-discount').text.strip()\n",
        "  oldPrice = card.find('span', class_='strike-through list').text.strip()\n",
        "  data1.write(line,0,ProductNo)\n",
        "  data1.write(line,1,ProductName)\n",
        "  data1.write(line,2,Price)\n",
        "  data1.write(line,3,oldPrice)\n",
        "  data1.write(line,4,discount)\n",
        "  line += 1\n",
        "  workbook.save('Charles_and_Keith.xls')"
      ],
      "metadata": {
        "id": "XaJ2Lt8oecIy"
      },
      "execution_count": null,
      "outputs": []
    }
  ]
}