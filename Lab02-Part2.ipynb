{
 "cells": [
  {
   "cell_type": "code",
   "execution_count": 1,
   "id": "3fc22f7b",
   "metadata": {},
   "outputs": [
    {
     "data": {
      "text/plain": [
       "'C:\\\\Users\\\\Binura'"
      ]
     },
     "execution_count": 1,
     "metadata": {},
     "output_type": "execute_result"
    }
   ],
   "source": [
    "pwd"
   ]
  },
  {
   "cell_type": "code",
   "execution_count": 2,
   "id": "3baaee5a",
   "metadata": {},
   "outputs": [
    {
     "name": "stdout",
     "output_type": "stream",
     "text": [
      "C:\\Users\\Binura\\IRWA\n"
     ]
    }
   ],
   "source": [
    "cd IRWA"
   ]
  },
  {
   "cell_type": "code",
   "execution_count": 35,
   "id": "962185b6",
   "metadata": {
    "scrolled": true
   },
   "outputs": [
    {
     "name": "stdout",
     "output_type": "stream",
     "text": [
      "{'remark': {1: [0], 3: [0]}, 'circu': {1: [1]}, 'announc': {1: [2]}, 'candidaci': {1: [3]}, 'presid': {1: [4], 3: [113, 159]}, 'new': {1: [5, 25], 2: [25], 3: [20, 42, 44, 130, 132]}, 'york': {1: [6, 26], 2: [26]}, 'citytrump': {1: [7]}, 'wow': {1: [8]}, 'whoa': {1: [9]}, 'group': {1: [10]}, 'peopl': {1: [11], 2: [79], 3: [61]}, 'thousandsso': {1: [12]}, 'nice': {1: [13, 17]}, 'thank': {1: [14, 18], 2: [8, 118], 3: [9]}, 'much': {1: [15], 2: [9]}, 'realli': {1: [16]}, 'great': {1: [19, 22], 2: [151]}, 'trump': {1: [20, 84]}, 'tower': {1: [21]}, 'wonder': {1: [23]}, 'citi': {1: [24], 2: [27]}, 'honor': {1: [27], 2: [81], 3: [13]}, 'everybodi': {1: [28]}, 'beyond': {1: [29]}, 'anybodi': {1: [30, 48, 66], 2: [158]}, 'expect': {1: [31]}, 'crowd': {1: [32]}, 'like': {1: [33, 42], 3: [16]}, 'thisand': {1: [34]}, 'tell': {1: [35], 2: [126]}, 'candid': {1: [36]}, 'went': {1: [37], 3: [136, 154]}, 'know': {1: [38, 45], 2: [122, 174]}, 'aircondition': {1: [39]}, 'work': {1: [40], 3: [106]}, 'sweat': {1: [41]}, 'dog': {1: [43]}, 'laughterthey': {1: [44]}, 'room': {1: [46]}, 'big': {1: [47]}, 'go': {1: [49], 2: [171]}, 'beat': {1: [50, 69, 77, 87], 3: [90]}, 'isi': {1: [51], 3: [170]}, 'think': {1: [52]}, 'gon': {1: [53]}, 'na': {1: [54]}, 'happen': {1: [55]}, 'applauseour': {1: [56]}, 'countri': {1: [57], 3: [24, 182]}, 'seriou': {1: [58]}, 'troubl': {1: [59]}, 'victori': {1: [60, 63]}, 'anymor': {1: [61]}, 'use': {1: [62]}, 'last': {1: [64, 93], 3: [102]}, 'time': {1: [65, 79, 80, 94], 2: [72, 121], 3: [34, 40, 97, 133, 135]}, 'saw': {1: [67, 95]}, 'us': {1: [68, 76], 2: [31], 3: [52]}, 'let': {1: [70], 2: [125]}, 'say': {1: [71], 2: [154]}, 'china': {1: [72, 78]}, 'trade': {1: [73]}, 'deal': {1: [74], 2: [116, 123, 127, 165, 168]}, 'kill': {1: [75]}, 'applauseaudi': {1: [81]}, 'member': {1: [82]}, 'want': {1: [83, 85]}, 'trumptrump': {1: [86]}, 'japan': {1: [88]}, 'anyth': {1: [89]}, 'send': {1: [90]}, 'car': {1: [91]}, 'million': {1: [92]}, 'chevrolet': {1: [96]}, 'tokyo': {1: [97]}, 'exist': {1: [98]}, 'folk': {1: [99]}, 'emark': {2: [0]}, 'aipac': {2: [1]}, 'polici': {2: [2], 3: [2, 22, 39, 56, 124, 138, 151]}, 'confer': {2: [3]}, 'washington': {2: [4, 28]}, 'dc': {2: [5]}, 'good': {2: [6]}, 'even': {2: [7]}, 'speak': {2: [10, 95], 3: [8]}, 'today': {2: [11], 3: [18, 49]}, 'lifelong': {2: [12]}, 'support': {2: [13, 68, 76]}, 'true': {2: [14]}, 'friend': {2: [15]}, 'israel': {2: [16, 41, 50, 63, 73, 77, 89, 130]}, 'newcom': {2: [17]}, 'polit': {2: [18]}, 'back': {2: [19, 48], 3: [82, 91]}, 'jewish': {2: [20, 69]}, 'statein': {2: [21]}, '2001': {2: [22]}, 'week': {2: [23]}, 'attack': {2: [24, 30, 32]}, 'frankli': {2: [29, 74]}, 'perpetr': {2: [33, 34]}, 'islam': {2: [35]}, 'fundamentalist': {2: [36]}, 'mayor': {2: [37]}, 'rudi': {2: [38]}, 'giuliani': {2: [39]}, 'visit': {2: [40]}, 'show': {2: [42]}, 'solidar': {2: [43]}, 'terror': {2: [44, 141]}, 'victim': {2: [45]}, 'sent': {2: [46]}, 'plane': {2: [47]}, 'mission': {2: [49]}, '100': {2: [51]}, 'percentin': {2: [52]}, 'spring': {2: [53]}, '2004': {2: [54]}, 'height': {2: [55]}, 'violenc': {2: [56]}, 'gaza': {2: [57]}, 'strip': {2: [58]}, 'grand': {2: [59]}, 'marshal': {2: [60]}, '40th': {2: [61]}, 'salut': {2: [62]}, 'parad': {2: [64]}, 'largest': {2: [65]}, 'singl': {2: [66]}, 'gather': {2: [67]}, 'state': {2: [70, 109, 139]}, 'danger': {2: [71], 3: [176]}, 'anyon': {2: [75]}, 'mani': {2: [78]}, 'turn': {2: [80]}, 'took': {2: [82]}, 'risk': {2: [83]}, 'glad': {2: [84]}, 'didbut': {2: [85]}, 'come': {2: [86]}, 'tonight': {2: [87]}, 'pander': {2: [88]}, 'politician': {2: [90]}, 'talk': {2: [91], 3: [17]}, 'action': {2: [92], 3: [164]}, 'believ': {2: [93, 160, 162]}, 'came': {2: [94]}, 'stand': {2: [96]}, 'futur': {2: [97]}, 'american': {2: [98], 3: [60, 62]}, 'relat': {2: [99]}, 'strateg': {2: [100]}, 'alli': {2: [101]}, 'unbreak': {2: [102]}, 'friendship': {2: [103]}, 'cultur': {2: [104]}, 'brother': {2: [105]}, 'democraci': {2: [106], 3: [181, 187]}, 'middl': {2: [107, 132]}, 'east': {2: [108]}, 'israelthank': {2: [110]}, 'number': {2: [111]}, 'one': {2: [112], 3: [26, 149]}, 'prioriti': {2: [113]}, 'dismantl': {2: [114]}, 'disastr': {2: [115]}, 'iran': {2: [117, 170]}, 'busi': {2: [119]}, 'long': {2: [120]}, 'make': {2: [124], 3: [68, 140, 179]}, 'catastroph': {2: [128]}, 'america': {2: [129], 3: [37, 69]}, 'whole': {2: [131]}, 'eastth': {2: [133]}, 'problem': {2: [134, 176]}, 'fundament': {2: [135]}, 'reward': {2: [136]}, 'world': {2: [137], 3: [87, 96]}, 'lead': {2: [138]}, 'sponsor': {2: [140]}, '150': {2: [142]}, 'billion': {2: [143]}, 'dollar': {2: [144]}, 'receiv': {2: [145]}, 'absolut': {2: [146]}, 'noth': {2: [147]}, 'return': {2: [148], 3: [51]}, 'studi': {2: [149]}, 'issu': {2: [150]}, 'detail': {2: [152]}, 'would': {2: [153], 3: [15]}, 'actual': {2: [155]}, 'greater': {2: [156]}, 'far': {2: [157]}, 'els': {2: [159], 3: [64]}, 'oh': {2: [161]}, 'meand': {2: [163]}, 'bad': {2: [164]}, 'biggest': {2: [166]}, 'concern': {2: [167]}, 'necessarili': {2: [169]}, 'violat': {2: [172]}, 'alreadi': {2: [173]}, 'bigger': {2: [175]}, 'keep': {2: [177]}, 'term': {2: [178]}, 'still': {2: [179]}, 'get': {2: [180]}, 'bomb': {2: [181]}, 'simpli': {2: [182]}, 'run': {2: [183]}, 'clock': {2: [184]}, 'foreign': {3: [1, 21, 38, 55, 123, 137, 150]}, 'nation': {3: [3, 11]}, 'press': {3: [4]}, 'club': {3: [5]}, 'washingtonthank': {3: [6]}, 'opportun': {3: [7]}, 'center': {3: [10]}, 'interest': {3: [12, 59, 184]}, 'invit': {3: [14, 41]}, 'develop': {3: [19, 129]}, 'direct': {3: [23, 47]}, 'â': {3: [25]}, 'replac': {3: [27, 145]}, 'random': {3: [28]}, 'purpos': {3: [29]}, 'ideolog': {3: [30]}, 'strategi': {3: [31]}, 'chao': {3: [32, 168]}, 'peac': {3: [33]}, 'shake': {3: [35]}, 'rust': {3: [36]}, 'voic': {3: [43]}, 'vision': {3: [45, 131]}, 'fold': {3: [46]}, 'outlin': {3: [48]}, 'also': {3: [50]}, 'timeless': {3: [53]}, 'principl': {3: [54]}, 'alway': {3: [57]}, 'put': {3: [58]}, 'secur': {3: [63]}, 'foundat': {3: [65]}, 'everi': {3: [66]}, 'decis': {3: [67]}, 'first': {3: [70, 79]}, 'major': {3: [71]}, 'overrid': {3: [72]}, 'theme': {3: [73]}, 'administr': {3: [74]}, 'chart': {3: [75]}, 'path': {3: [76]}, 'forward': {3: [77]}, 'must': {3: [78]}, 'briefli': {3: [80]}, 'look': {3: [81]}, 'lot': {3: [83]}, 'proud': {3: [84]}, '1940': {3: [85]}, 'save': {3: [86, 95]}, 'greatest': {3: [88]}, 'gener': {3: [89]}, 'nazi': {3: [92]}, 'japanes': {3: [93]}, 'imperialist': {3: [94]}, 'totalitarian': {3: [98]}, 'commun': {3: [99]}, 'cold': {3: [100, 121]}, 'war': {3: [101, 122]}, 'decad': {3: [103]}, 'democrat': {3: [104]}, 'republican': {3: [105]}, 'togeth': {3: [107]}, 'got': {3: [108]}, 'mr': {3: [109]}, 'gorbachev': {3: [110]}, 'heed': {3: [111]}, 'word': {3: [112]}, 'reagan': {3: [114]}, 'said': {3: [115]}, 'tear': {3: [116]}, 'wall': {3: [117]}, 'histori': {3: [118]}, 'forget': {3: [119]}, 'unfortun': {3: [120]}, 'veer': {3: [125]}, 'badli': {3: [126]}, 'cours': {3: [127]}, 'fail': {3: [128]}, 'fact': {3: [134]}, 'began': {3: [139, 175]}, 'less': {3: [141, 142]}, 'sens': {3: [143]}, 'logic': {3: [144]}, 'foolish': {3: [146]}, 'arrog': {3: [147]}, 'led': {3: [148]}, 'disast': {3: [152]}, 'anoth': {3: [153]}, 'mistak': {3: [155]}, 'iraq': {3: [156]}, 'egypt': {3: [157]}, 'libya': {3: [158]}, 'obama': {3: [160]}, 'line': {3: [161]}, 'sand': {3: [162]}, 'syria': {3: [163]}, 'help': {3: [165]}, 'throw': {3: [166]}, 'region': {3: [167]}, 'gave': {3: [169]}, 'space': {3: [171]}, 'need': {3: [172]}, 'grow': {3: [173]}, 'prosper': {3: [174]}, 'idea': {3: [177]}, 'could': {3: [178]}, 'western': {3: [180, 186]}, 'experi': {3: [183]}, 'becom': {3: [185]}, 'tore': {3: [188]}, 'institut': {3: [189]}, 'surpris': {3: [190]}, 'unleash': {3: [191]}}\n"
     ]
    }
   ],
   "source": [
    "import os\n",
    "import re\n",
    "from nltk.tokenize import word_tokenize\n",
    "from nltk.corpus import stopwords\n",
    "from nltk.stem import PorterStemmer\n",
    "\n",
    "dictionary = dict()\n",
    "for doc_no in range(1,4):\n",
    "    with open(os.getcwd() + '/positional/doc_' + str(doc_no) + '.txt','r') as file:\n",
    "        s = file.read().replace('\\n','')[1:]\n",
    "        #print('sentences: ',s)\n",
    "        \n",
    "        s = re.sub(' ',' ',s)\n",
    "        s = re.sub(r\"won't\",\"will not\",s)\n",
    "        s = re.sub(r\"can\\'t\",\"can not\",s)\n",
    "        s = re.sub(r\"n\\'t\",\" not\",s)\n",
    "        s = re.sub(r\"\\'re\",\" are\",s)\n",
    "        s = re.sub(r\"\\'s\",\" is\",s)\n",
    "        s = re.sub(r\"\\'d\",\" would\",s)\n",
    "        s = re.sub(r\"\\'ll\",\" will\",s)\n",
    "        s = re.sub(r\"\\'t\",\" not\",s)\n",
    "        s = re.sub(r\"\\'ve\",\" have\",s)\n",
    "        s = re.sub(r\"\\'m\",\" am\",s)\n",
    "        s = re.sub(r'[^\\w\\s]','',s)\n",
    "        \n",
    "        #print('sentences: ',s)\n",
    "        words = word_tokenize(str(s).lower())\n",
    "        #print(words)\n",
    "        stop_words = stopwords.words('english')\n",
    "        #print(stop_words)\n",
    "        new_sentence = [word for word in words if word not in stop_words]\n",
    "        #print(new_sentence)\n",
    "        \n",
    "        ps = PorterStemmer()\n",
    "        stemmed = []\n",
    "        for i in new_sentence:\n",
    "            stemmed.append(ps.stem(i))\n",
    "        #print(stemmed)\n",
    "        \n",
    "        #postional indexing\n",
    "        temp_dict = dict()\n",
    "        a=0\n",
    "        for x in stemmed:\n",
    "            key = x\n",
    "            temp_dict.setdefault(key,[])\n",
    "            temp_dict[key].append(a)\n",
    "            a += 1\n",
    "        for x in temp_dict:\n",
    "            #print(x)\n",
    "            if dictionary.get(x):\n",
    "                dictionary[x][doc_no] = temp_dict.get(x)\n",
    "            else:\n",
    "                key = x\n",
    "                dictionary.setdefault(key,[])\n",
    "                dictionary[key] = {}\n",
    "                #print([x[doc_no]])\n",
    "                dictionary[x][doc_no] = temp_dict.get(x)\n",
    "print(dictionary)\n",
    "    "
   ]
  },
  {
   "cell_type": "code",
   "execution_count": 18,
   "id": "5c32d6e9",
   "metadata": {},
   "outputs": [
    {
     "name": "stderr",
     "output_type": "stream",
     "text": [
      "[nltk_data] Downloading package punkt to\n",
      "[nltk_data]     C:\\Users\\Binura\\AppData\\Roaming\\nltk_data...\n",
      "[nltk_data]   Package punkt is already up-to-date!\n"
     ]
    },
    {
     "data": {
      "text/plain": [
       "True"
      ]
     },
     "execution_count": 18,
     "metadata": {},
     "output_type": "execute_result"
    }
   ],
   "source": [
    "import nltk\n",
    "nltk.download('punkt')"
   ]
  },
  {
   "cell_type": "code",
   "execution_count": null,
   "id": "136235d0",
   "metadata": {},
   "outputs": [],
   "source": []
  },
  {
   "cell_type": "code",
   "execution_count": null,
   "id": "a9fc32dd",
   "metadata": {},
   "outputs": [],
   "source": []
  }
 ],
 "metadata": {
  "kernelspec": {
   "display_name": "Python 3 (ipykernel)",
   "language": "python",
   "name": "python3"
  },
  "language_info": {
   "codemirror_mode": {
    "name": "ipython",
    "version": 3
   },
   "file_extension": ".py",
   "mimetype": "text/x-python",
   "name": "python",
   "nbconvert_exporter": "python",
   "pygments_lexer": "ipython3",
   "version": "3.9.12"
  }
 },
 "nbformat": 4,
 "nbformat_minor": 5
}
