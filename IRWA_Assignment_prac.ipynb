{
  "nbformat": 4,
  "nbformat_minor": 0,
  "metadata": {
    "colab": {
      "provenance": []
    },
    "kernelspec": {
      "name": "python3",
      "display_name": "Python 3"
    },
    "language_info": {
      "name": "python"
    }
  },
  "cells": [
    {
      "cell_type": "code",
      "execution_count": null,
      "metadata": {
        "id": "dOFcnAkKFIm6"
      },
      "outputs": [],
      "source": [
        "import requests\n",
        "import lxml\n",
        "from bs4 import BeautifulSoup\n",
        "from xlwt import *"
      ]
    },
    {
      "cell_type": "code",
      "source": [
        "url = \"https://odel.lk/deal-products\""
      ],
      "metadata": {
        "id": "gZF5JVoPFz5G"
      },
      "execution_count": null,
      "outputs": []
    },
    {
      "cell_type": "code",
      "source": [
        "headers={'User-Agent':'Mozilla/5.0 (Machintosh,Intel Mac OS X 10_10_1)AppleWebKit/537.36(KHTML, like Gecko) Chrome/39.0.2171.95 Safari/537.36'}"
      ],
      "metadata": {
        "id": "1Fh2RegQGAU6"
      },
      "execution_count": null,
      "outputs": []
    },
    {
      "cell_type": "code",
      "source": [
        "f = requests.get(url,headers)"
      ],
      "metadata": {
        "id": "e5OXf8xgGFVC"
      },
      "execution_count": null,
      "outputs": []
    },
    {
      "cell_type": "code",
      "source": [
        "soup = BeautifulSoup(f.content, 'lxml')\n",
        "cards = soup.find_all(\"div\",class_='col-sm-6 col-md-4 col-lg-3 p-b-35 product-tile-search')\n",
        "product_lst = []\n",
        "num = 0"
      ],
      "metadata": {
        "id": "_sGaUOi1GNmg"
      },
      "execution_count": null,
      "outputs": []
    },
    {
      "cell_type": "code",
      "source": [
        "workbook = Workbook(encoding = 'utf-8')\n",
        "data1 = workbook.add_sheet('data')\n",
        "data1.write(0,0,'Product Number')\n",
        "data1.write(0,1,'Product Name')\n",
        "data1.write(0,2,'New Price')\n",
        "data1.write(0,3,'Old Price')\n",
        "data1.write(0,4,'discount')\n",
        "line = 1"
      ],
      "metadata": {
        "id": "Ru6cSOsYUwjq"
      },
      "execution_count": null,
      "outputs": []
    },
    {
      "cell_type": "code",
      "source": [
        "cards = soup.find_all('div', class_='col-sm-6 col-md-4 col-lg-3 p-b-35 product-tile-search')\n",
        "\n",
        "for card in cards:\n",
        "  discount = card.find('div', class_='product_tag_discount').text\n",
        "  prod_no = card.find('div', class_='block2-pic hov-img0').a['href'].split('/')[-1]\n",
        "  prod_name = card.find('div', class_='block2-txt-child1 flex-col-l').a.text.strip()\n",
        "\n",
        "  price = card.find('span', class_='stext-105 cl3').text.strip()\n",
        "  prev_price = card.find('del').text.strip()\n",
        "  data1.write(line,0,prod_no)\n",
        "  data1.write(line,1,prod_name)\n",
        "  data1.write(line,2,price)\n",
        "  data1.write(line,3,prev_price)\n",
        "  data1.write(line,4,discount)\n",
        "  line += 1\n",
        "  workbook.save('odel.xls')"
      ],
      "metadata": {
        "id": "ajoKxWflXLQ4"
      },
      "execution_count": null,
      "outputs": []
    }
  ]
}